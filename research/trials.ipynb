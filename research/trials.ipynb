{
 "cells": [
  {
   "cell_type": "code",
   "execution_count": 1,
   "metadata": {},
   "outputs": [],
   "source": [
    "import gdown"
   ]
  },
  {
   "cell_type": "code",
   "execution_count": 2,
   "metadata": {},
   "outputs": [],
   "source": [
    "import os"
   ]
  },
  {
   "cell_type": "code",
   "execution_count": 3,
   "metadata": {},
   "outputs": [
    {
     "data": {
      "text/plain": [
       "'d:\\\\001_YOLO\\\\Project_01\\\\End_to_end_Waste_Detection_Using_Yolo_v5\\\\reseach'"
      ]
     },
     "execution_count": 3,
     "metadata": {},
     "output_type": "execute_result"
    }
   ],
   "source": [
    "%pwd"
   ]
  },
  {
   "cell_type": "code",
   "execution_count": 4,
   "metadata": {},
   "outputs": [],
   "source": [
    "os.chdir(\"../\")"
   ]
  },
  {
   "cell_type": "code",
   "execution_count": 5,
   "metadata": {},
   "outputs": [
    {
     "data": {
      "text/plain": [
       "'d:\\\\001_YOLO\\\\Project_01\\\\End_to_end_Waste_Detection_Using_Yolo_v5'"
      ]
     },
     "execution_count": 5,
     "metadata": {},
     "output_type": "execute_result"
    }
   ],
   "source": [
    "%pwd"
   ]
  },
  {
   "cell_type": "code",
   "execution_count": 6,
   "metadata": {},
   "outputs": [],
   "source": [
    "url = \"https://drive.google.com/file/d/10LAXcEE1pzpftF92jsi6t3BXnihUHMvP/view?usp=sharing\""
   ]
  },
  {
   "cell_type": "code",
   "execution_count": 7,
   "metadata": {},
   "outputs": [
    {
     "name": "stdout",
     "output_type": "stream",
     "text": [
      "10LAXcEE1pzpftF92jsi6t3BXnihUHMvP\n"
     ]
    },
    {
     "name": "stderr",
     "output_type": "stream",
     "text": [
      "Downloading...\n",
      "From (uriginal): https://drive.google.com/uc?/export=download&id=10LAXcEE1pzpftF92jsi6t3BXnihUHMvP\n",
      "From (redirected): https://drive.google.com/uc?/export=download&id=10LAXcEE1pzpftF92jsi6t3BXnihUHMvP&confirm=t&uuid=9990d03a-de4b-4f36-abd6-654bf09287d7\n",
      "To: d:\\001_YOLO\\Project_01\\End_to_end_Waste_Detection_Using_Yolo_v5\\data\\waste_data.zip\n",
      "100%|██████████| 40.1M/40.1M [00:06<00:00, 6.18MB/s]"
     ]
    },
    {
     "name": "stdout",
     "output_type": "stream",
     "text": [
      "Data downloaded!\n"
     ]
    },
    {
     "name": "stderr",
     "output_type": "stream",
     "text": [
      "\n"
     ]
    }
   ],
   "source": [
    "import gdown\n",
    "\n",
    "url = \"https://drive.google.com/file/d/10LAXcEE1pzpftF92jsi6t3BXnihUHMvP/view?usp=sharing\"\n",
    "\n",
    "file_id = url.split(\"/\")[-2]\n",
    "print(file_id)\n",
    "prefix = 'https://drive.google.com/uc?/export=download&id='\n",
    "gdown.download(prefix+file_id,\"data/waste_data.zip\")\n",
    "print(\"Data downloaded!\")"
   ]
  },
  {
   "cell_type": "code",
   "execution_count": 8,
   "metadata": {},
   "outputs": [
    {
     "data": {
      "text/plain": [
       "'d:\\\\001_YOLO\\\\Project_01\\\\End_to_end_Waste_Detection_Using_Yolo_v5'"
      ]
     },
     "execution_count": 8,
     "metadata": {},
     "output_type": "execute_result"
    }
   ],
   "source": [
    "pwd\n"
   ]
  },
  {
   "cell_type": "code",
   "execution_count": 9,
   "metadata": {},
   "outputs": [
    {
     "name": "stdout",
     "output_type": "stream",
     "text": [
      "[WinError 2] The system cannot find the file specified: 'Project_01/'\n",
      "d:\\001_YOLO\\Project_01\\End_to_end_Waste_Detection_Using_Yolo_v5\\reseach\n"
     ]
    }
   ],
   "source": [
    "cd Project_01/"
   ]
  },
  {
   "cell_type": "code",
   "execution_count": 10,
   "metadata": {},
   "outputs": [
    {
     "name": "stdout",
     "output_type": "stream",
     "text": [
      "[WinError 2] The system cannot find the file specified: 'End_to_end_Waste_Detection_Using_Yolo_v5/'\n",
      "d:\\001_YOLO\\Project_01\\End_to_end_Waste_Detection_Using_Yolo_v5\\reseach\n"
     ]
    }
   ],
   "source": [
    "cd End_to_end_Waste_Detection_Using_Yolo_v5/"
   ]
  },
  {
   "cell_type": "code",
   "execution_count": 11,
   "metadata": {},
   "outputs": [
    {
     "data": {
      "text/plain": [
       "'d:\\\\001_YOLO\\\\Project_01\\\\End_to_end_Waste_Detection_Using_Yolo_v5'"
      ]
     },
     "execution_count": 11,
     "metadata": {},
     "output_type": "execute_result"
    }
   ],
   "source": [
    "pwd\n"
   ]
  },
  {
   "cell_type": "code",
   "execution_count": 12,
   "metadata": {},
   "outputs": [
    {
     "name": "stdout",
     "output_type": "stream",
     "text": [
      "10LAXcEE1pzpftF92jsi6t3BXnihUHMvP\n"
     ]
    },
    {
     "name": "stderr",
     "output_type": "stream",
     "text": [
      "Downloading...\n",
      "From (uriginal): https://drive.google.com/uc?/export=download&id=10LAXcEE1pzpftF92jsi6t3BXnihUHMvP\n",
      "From (redirected): https://drive.google.com/uc?/export=download&id=10LAXcEE1pzpftF92jsi6t3BXnihUHMvP&confirm=t&uuid=ebf0e17f-83fc-48f5-81ac-ad6ec2ec57c4\n",
      "To: d:\\001_YOLO\\Project_01\\End_to_end_Waste_Detection_Using_Yolo_v5\\data\\waste_data.zip\n",
      "100%|██████████| 40.1M/40.1M [00:06<00:00, 6.27MB/s]"
     ]
    },
    {
     "name": "stdout",
     "output_type": "stream",
     "text": [
      "Data downloaded!\n"
     ]
    },
    {
     "name": "stderr",
     "output_type": "stream",
     "text": [
      "\n"
     ]
    }
   ],
   "source": [
    "import gdown\n",
    "\n",
    "url = \"https://drive.google.com/file/d/10LAXcEE1pzpftF92jsi6t3BXnihUHMvP/view?usp=sharing\"\n",
    "\n",
    "file_id = url.split(\"/\")[-2]\n",
    "print(file_id)\n",
    "prefix = 'https://drive.google.com/uc?/export=download&id='\n",
    "gdown.download(prefix+file_id,\"data/waste_data.zip\")\n",
    "print(\"Data downloaded!\")"
   ]
  }
 ],
 "metadata": {
  "kernelspec": {
   "display_name": "waste",
   "language": "python",
   "name": "python3"
  },
  "language_info": {
   "codemirror_mode": {
    "name": "ipython",
    "version": 3
   },
   "file_extension": ".py",
   "mimetype": "text/x-python",
   "name": "python",
   "nbconvert_exporter": "python",
   "pygments_lexer": "ipython3",
   "version": "3.8.18"
  }
 },
 "nbformat": 4,
 "nbformat_minor": 2
}
